{
 "cells": [
  {
   "cell_type": "code",
   "execution_count": null,
   "metadata": {},
   "outputs": [],
   "source": [
    "# get_chemical_structure.ipynb\n",
    "\n",
    "import requests\n",
    "from collections import defaultdict\n",
    "from rdkit import Chem\n",
    "from rdkit.Chem.Draw import rdMolDraw2D, DrawingOptions\n",
    "import base64\n",
    "import io\n",
    "\n",
    "def get_chemical_structure(query):\n",
    "    path = f\"https://lotus.naturalproducts.net/api/search/simple?query={query}\"\n",
    "    response = requests.get(path).json()\n",
    "    compounds = []\n",
    "\n",
    "    for i in response['naturalProducts']:\n",
    "        lotus_id = str(i['lotus_id'])\n",
    "        smiles = i['smiles']\n",
    "        group = i.get('chemicalTaxonomyNPclassifierSuperclass', 'Unknown')\n",
    "        path_lotus = f'https://lotus.naturalproducts.net/compound/lotus_id/{lotus_id}'\n",
    "        caption = f'<a href=\"{path_lotus}\" target=\"_blank\" rel=\"noopener noreferrer\">{lotus_id}</a>'\n",
    "\n",
    "        mol = Chem.MolFromSmiles(smiles)\n",
    "        mol.SetProp('_Name', lotus_id)\n",
    "        DrawingOptions.atomLabelFontSize = 1.0\n",
    "        DrawingOptions.dotsPerAngstrom = 100\n",
    "        DrawingOptions.bondLineWidth = 2\n",
    "\n",
    "        drawer = rdMolDraw2D.MolDraw2DCairo(200, 200)\n",
    "        drawer.drawOptions().useBWAtomPalette()\n",
    "        drawer.DrawMolecule(mol)\n",
    "        drawer.FinishDrawing()\n",
    "\n",
    "        bio = io.BytesIO()\n",
    "        bio.write(drawer.GetDrawingText())\n",
    "        bio.seek(0)\n",
    "        b64_encoded_png = base64.b64encode(bio.read()).decode('utf-8')\n",
    "\n",
    "        compounds.append({\n",
    "            'lotus_id': lotus_id,\n",
    "            'smiles': smiles,\n",
    "            'img_data': b64_encoded_png,\n",
    "            'caption': caption,\n",
    "            'group': group\n",
    "        })\n",
    "    return compounds\n",
    "\n",
    "occ = get_chemical_structure('Angelica sinensis')\n",
    "occ\n"
   ]
  }
 ],
 "metadata": {
  "kernelspec": {
   "display_name": "wagtail",
   "language": "python",
   "name": "python3"
  },
  "language_info": {
   "name": "python",
   "version": "3.9.20"
  }
 },
 "nbformat": 4,
 "nbformat_minor": 2
}
